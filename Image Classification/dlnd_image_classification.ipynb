{
 "cells": [
  {
   "cell_type": "markdown",
   "metadata": {
    "collapsed": true,
    "deletable": true,
    "editable": true
   },
   "source": [
    "# Image Classification\n",
    "In this project, you'll classify images from the [CIFAR-10 dataset](https://www.cs.toronto.edu/~kriz/cifar.html).  The dataset consists of airplanes, dogs, cats, and other objects. You'll preprocess the images, then train a convolutional neural network on all the samples. The images need to be normalized and the labels need to be one-hot encoded.  You'll get to apply what you learned and build a convolutional, max pooling, dropout, and fully connected layers.  At the end, you'll get to see your neural network's predictions on the sample images.\n",
    "## Get the Data\n",
    "Run the following cell to download the [CIFAR-10 dataset for python](https://www.cs.toronto.edu/~kriz/cifar-10-python.tar.gz)."
   ]
  },
  {
   "cell_type": "code",
   "execution_count": 1,
   "metadata": {
    "collapsed": false,
    "deletable": true,
    "editable": true
   },
   "outputs": [
    {
     "name": "stdout",
     "output_type": "stream",
     "text": [
      "All files found!\n"
     ]
    }
   ],
   "source": [
    "\"\"\"\n",
    "DON'T MODIFY ANYTHING IN THIS CELL THAT IS BELOW THIS LINE\n",
    "\"\"\"\n",
    "from urllib.request import urlretrieve\n",
    "from os.path import isfile, isdir\n",
    "from tqdm import tqdm\n",
    "import problem_unittests as tests\n",
    "import tarfile\n",
    "\n",
    "cifar10_dataset_folder_path = 'cifar-10-batches-py'\n",
    "\n",
    "class DLProgress(tqdm):\n",
    "    last_block = 0\n",
    "\n",
    "    def hook(self, block_num=1, block_size=1, total_size=None):\n",
    "        self.total = total_size\n",
    "        self.update((block_num - self.last_block) * block_size)\n",
    "        self.last_block = block_num\n",
    "\n",
    "if not isfile('cifar-10-python.tar.gz'):\n",
    "    with DLProgress(unit='B', unit_scale=True, miniters=1, desc='CIFAR-10 Dataset') as pbar:\n",
    "        urlretrieve(\n",
    "            'https://www.cs.toronto.edu/~kriz/cifar-10-python.tar.gz',\n",
    "            'cifar-10-python.tar.gz',\n",
    "            pbar.hook)\n",
    "\n",
    "if not isdir(cifar10_dataset_folder_path):\n",
    "    with tarfile.open('cifar-10-python.tar.gz') as tar:\n",
    "        tar.extractall()\n",
    "        tar.close()\n",
    "\n",
    "\n",
    "tests.test_folder_path(cifar10_dataset_folder_path)"
   ]
  },
  {
   "cell_type": "markdown",
   "metadata": {
    "deletable": true,
    "editable": true
   },
   "source": [
    "## Explore the Data\n",
    "The dataset is broken into batches to prevent your machine from running out of memory.  The CIFAR-10 dataset consists of 5 batches, named `data_batch_1`, `data_batch_2`, etc.. Each batch contains the labels and images that are one of the following:\n",
    "* airplane\n",
    "* automobile\n",
    "* bird\n",
    "* cat\n",
    "* deer\n",
    "* dog\n",
    "* frog\n",
    "* horse\n",
    "* ship\n",
    "* truck\n",
    "\n",
    "Understanding a dataset is part of making predictions on the data.  Play around with the code cell below by changing the `batch_id` and `sample_id`. The `batch_id` is the id for a batch (1-5). The `sample_id` is the id for a image and label pair in the batch.\n",
    "\n",
    "Ask yourself \"What are all possible labels?\", \"What is the range of values for the image data?\", \"Are the labels in order or random?\".  Answers to questions like these will help you preprocess the data and end up with better predictions."
   ]
  },
  {
   "cell_type": "code",
   "execution_count": 2,
   "metadata": {
    "collapsed": false,
    "deletable": true,
    "editable": true
   },
   "outputs": [
    {
     "name": "stdout",
     "output_type": "stream",
     "text": [
      "\n",
      "Stats of batch 1:\n",
      "Samples: 10000\n",
      "Label Counts: {0: 1005, 1: 974, 2: 1032, 3: 1016, 4: 999, 5: 937, 6: 1030, 7: 1001, 8: 1025, 9: 981}\n",
      "First 20 Labels: [6, 9, 9, 4, 1, 1, 2, 7, 8, 3, 4, 7, 7, 2, 9, 9, 9, 3, 2, 6]\n",
      "\n",
      "Example of Image 5:\n",
      "Image - Min Value: 0 Max Value: 252\n",
      "Image - Shape: (32, 32, 3)\n",
      "Label - Label Id: 1 Name: automobile\n"
     ]
    },
    {
     "data": {
      "image/png": "[encoded data removed]",
      "text/plain": [
       "<matplotlib.figure.Figure at 0x7f3054195278>"
      ]
     },
     "metadata": {
      "image/png": {
       "height": 250,
       "width": 253
      }
     },
     "output_type": "display_data"
    }
   ],
   "source": [
    "%matplotlib inline\n",
    "%config InlineBackend.figure_format = 'retina'\n",
    "\n",
    "import helper\n",
    "import numpy as np\n",
    "\n",
    "from sklearn import preprocessing\n",
    "from sklearn.preprocessing import LabelBinarizer\n",
    "from sklearn.preprocessing import OneHotEncoder\n",
    "\n",
    "# Explore the dataset\n",
    "batch_id = 1\n",
    "sample_id = 5\n",
    "helper.display_stats(cifar10_dataset_folder_path, batch_id, sample_id)"
   ]
  },
  {
   "cell_type": "markdown",
   "metadata": {
    "deletable": true,
    "editable": true
   },
   "source": [
    "## Implement Preprocess Functions\n",
    "### Normalize\n",
    "In the cell below, implement the `normalize` function to take in image data, `x`, and return it as a normalized Numpy array. The values should be in the range of 0 to 1, inclusive.  The return object should be the same shape as `x`."
   ]
  },
  {
   "cell_type": "code",
   "execution_count": 3,
   "metadata": {
    "collapsed": false,
    "deletable": true,
    "editable": true
   },
   "outputs": [
    {
     "name": "stdout",
     "output_type": "stream",
     "text": [
      "Tests Passed\n"
     ]
    }
   ],
   "source": [
    "def normalize(x):\n",
    "    \"\"\"\n",
    "    Normalize a list of sample image data in the range of 0 to 1\n",
    "    : x: List of image data.  The image shape is (32, 32, 3)\n",
    "    : return: Numpy array of normalize data\n",
    "    \"\"\"\n",
    "    # TODO: Implement Function\n",
    "    x_normalized = x/255.0\n",
    "    return x_normalized\n",
    "    \n",
    "\n",
    "\n",
    "\"\"\"\n",
    "DON'T MODIFY ANYTHING IN THIS CELL THAT IS BELOW THIS LINE\n",
    "\"\"\"\n",
    "tests.test_normalize(normalize)"
   ]
  },
  {
   "cell_type": "markdown",
   "metadata": {
    "deletable": true,
    "editable": true
   },
   "source": [
    "### One-hot encode\n",
    "Just like the previous code cell, you'll be implementing a function for preprocessing.  This time, you'll implement the `one_hot_encode` function. The input, `x`, are a list of labels.  Implement the function to return the list of labels as One-Hot encoded Numpy array.  The possible values for labels are 0 to 9. The one-hot encoding function should return the same encoding for each value between each call to `one_hot_encode`.  Make sure to save the map of encodings outside the function.\n",
    "\n",
    "Hint: Don't reinvent the wheel."
   ]
  },
  {
   "cell_type": "code",
   "execution_count": 4,
   "metadata": {
    "collapsed": false,
    "deletable": true,
    "editable": true
   },
   "outputs": [
    {
     "name": "stdout",
     "output_type": "stream",
     "text": [
      "Tests Passed\n"
     ]
    }
   ],
   "source": [
    "def one_hot_encode(x):\n",
    "    \"\"\"\n",
    "    One hot encode a list of sample labels. Return a one-hot encoded vector for each label.\n",
    "    : x: List of sample Labels\n",
    "    : return: Numpy array of one-hot encoded labels\n",
    "    \"\"\"\n",
    "    # TODO: Implement Function\n",
    "    #lb = preprocessing.LabelBinarizer(neg_label=0, pos_label=1, sparse_output=False)\n",
    "    #lb.fit(np.array([[0,0,0,0,0,0,0,0,0,0],[0,0,0,0,0,0,0,0,0,0]]))\n",
    "    #result = lb.transform(x)\n",
    "        \n",
    "    \n",
    "    label_binarizer = LabelBinarizer()\n",
    "    label_binarizer.fit(range(10))\n",
    "    \n",
    "    return label_binarizer.transform(x)\n",
    "\n",
    "\n",
    "\"\"\"\n",
    "DON'T MODIFY ANYTHING IN THIS CELL THAT IS BELOW THIS LINE\n",
    "\"\"\"\n",
    "tests.test_one_hot_encode(one_hot_encode)"
   ]
  },
  {
   "cell_type": "markdown",
   "metadata": {
    "deletable": true,
    "editable": true
   },
   "source": [
    "### Randomize Data\n",
    "As you saw from exploring the data above, the order of the samples are randomized.  It doesn't hurt to randomize it again, but you don't need to for this dataset."
   ]
  },
  {
   "cell_type": "markdown",
   "metadata": {
    "deletable": true,
    "editable": true
   },
   "source": [
    "## Preprocess all the data and save it\n",
    "Running the code cell below will preprocess all the CIFAR-10 data and save it to file. The code below also uses 10% of the training data for validation."
   ]
  },
  {
   "cell_type": "code",
   "execution_count": 5,
   "metadata": {
    "collapsed": false,
    "deletable": true,
    "editable": true
   },
   "outputs": [],
   "source": [
    "\"\"\"\n",
    "DON'T MODIFY ANYTHING IN THIS CELL\n",
    "\"\"\"\n",
    "# Preprocess Training, Validation, and Testing Data\n",
    "helper.preprocess_and_save_data(cifar10_dataset_folder_path, normalize, one_hot_encode)"
   ]
  },
  {
   "cell_type": "markdown",
   "metadata": {
    "deletable": true,
    "editable": true
   },
   "source": [
    "# Check Point\n",
    "This is your first checkpoint.  If you ever decide to come back to this notebook or have to restart the notebook, you can start from here.  The preprocessed data has been saved to disk."
   ]
  },
  {
   "cell_type": "code",
   "execution_count": 6,
   "metadata": {
    "collapsed": true,
    "deletable": true,
    "editable": true
   },
   "outputs": [],
   "source": [
    "\"\"\"\n",
    "DON'T MODIFY ANYTHING IN THIS CELL\n",
    "\"\"\"\n",
    "import pickle\n",
    "import problem_unittests as tests\n",
    "import helper\n",
    "\n",
    "# Load the Preprocessed Validation data\n",
    "valid_features, valid_labels = pickle.load(open('preprocess_validation.p', mode='rb'))"
   ]
  },
  {
   "cell_type": "markdown",
   "metadata": {
    "deletable": true,
    "editable": true
   },
   "source": [
    "## Build the network\n",
    "For the neural network, you'll build each layer into a function.  Most of the code you've seen has been outside of functions. To test your code more thoroughly, we require that you put each layer in a function.  This allows us to give you better feedback and test for simple mistakes using our unittests before you submit your project.\n",
    "\n",
    ">**Note:** If you're finding it hard to dedicate enough time for this course each week, we've provided a small shortcut to this part of the project. In the next couple of problems, you'll have the option to use classes from the [TensorFlow Layers](https://www.tensorflow.org/api_docs/python/tf/layers) or [TensorFlow Layers (contrib)](https://www.tensorflow.org/api_guides/python/contrib.layers) packages to build each layer, except the layers you build in the \"Convolutional and Max Pooling Layer\" section.  TF Layers is similar to Keras's and TFLearn's abstraction to layers, so it's easy to pickup.\n",
    "\n",
    ">However, if you would like to get the most out of this course, try to solve all the problems _without_ using anything from the TF Layers packages. You **can** still use classes from other packages that happen to have the same name as ones you find in TF Layers! For example, instead of using the TF Layers version of the `conv2d` class, [tf.layers.conv2d](https://www.tensorflow.org/api_docs/python/tf/layers/conv2d), you would want to use the TF Neural Network version of `conv2d`, [tf.nn.conv2d](https://www.tensorflow.org/api_docs/python/tf/nn/conv2d). \n",
    "\n",
    "Let's begin!\n",
    "\n",
    "### Input\n",
    "The neural network needs to read the image data, one-hot encoded labels, and dropout keep probability. Implement the following functions\n",
    "* Implement `neural_net_image_input`\n",
    " * Return a [TF Placeholder](https://www.tensorflow.org/api_docs/python/tf/placeholder)\n",
    " * Set the shape using `image_shape` with batch size set to `None`.\n",
    " * Name the TensorFlow placeholder \"x\" using the TensorFlow `name` parameter in the [TF Placeholder](https://www.tensorflow.org/api_docs/python/tf/placeholder).\n",
    "* Implement `neural_net_label_input`\n",
    " * Return a [TF Placeholder](https://www.tensorflow.org/api_docs/python/tf/placeholder)\n",
    " * Set the shape using `n_classes` with batch size set to `None`.\n",
    " * Name the TensorFlow placeholder \"y\" using the TensorFlow `name` parameter in the [TF Placeholder](https://www.tensorflow.org/api_docs/python/tf/placeholder).\n",
    "* Implement `neural_net_keep_prob_input`\n",
    " * Return a [TF Placeholder](https://www.tensorflow.org/api_docs/python/tf/placeholder) for dropout keep probability.\n",
    " * Name the TensorFlow placeholder \"keep_prob\" using the TensorFlow `name` parameter in the [TF Placeholder](https://www.tensorflow.org/api_docs/python/tf/placeholder).\n",
    "\n",
    "These names will be used at the end of the project to load your saved model.\n",
    "\n",
    "Note: `None` for shapes in TensorFlow allow for a dynamic size."
   ]
  },
  {
   "cell_type": "code",
   "execution_count": 7,
   "metadata": {
    "collapsed": false,
    "deletable": true,
    "editable": true
   },
   "outputs": [
    {
     "name": "stdout",
     "output_type": "stream",
     "text": [
      "Image Input Tests Passed.\n",
      "Label Input Tests Passed.\n",
      "Keep Prob Tests Passed.\n"
     ]
    }
   ],
   "source": [
    "import tensorflow as tf\n",
    "\n",
    "def neural_net_image_input(image_shape):\n",
    "    \"\"\"\n",
    "    Return a Tensor for a bach of image input\n",
    "    : image_shape: Shape of the images\n",
    "    : return: Tensor for image input.\n",
    "    \"\"\"\n",
    "    # TODO: Implement Function\n",
    "    return tf.placeholder(tf.float32,[None,image_shape[0],image_shape[1],image_shape[2]],name = 'x')\n",
    "\n",
    "\n",
    "def neural_net_label_input(n_classes):\n",
    "    \"\"\"\n",
    "    Return a Tensor for a batch of label input\n",
    "    : n_classes: Number of classes\n",
    "    : return: Tensor for label input.\n",
    "    \"\"\"\n",
    "    # TODO: Implement Function\n",
    "    return tf.placeholder(tf.float32,[None,n_classes],name = 'y')\n",
    "\n",
    "\n",
    "def neural_net_keep_prob_input():\n",
    "    \"\"\"\n",
    "    Return a Tensor for keep probability\n",
    "    : return: Tensor for keep probability.\n",
    "    \"\"\"\n",
    "    # TODO: Implement Function\n",
    "    return tf.placeholder(tf.float32,None,name = 'keep_prob')\n",
    "\n",
    "\n",
    "\"\"\"\n",
    "DON'T MODIFY ANYTHING IN THIS CELL THAT IS BELOW THIS LINE\n",
    "\"\"\"\n",
    "tf.reset_default_graph()\n",
    "tests.test_nn_image_inputs(neural_net_image_input)\n",
    "tests.test_nn_label_inputs(neural_net_label_input)\n",
    "tests.test_nn_keep_prob_inputs(neural_net_keep_prob_input)"
   ]
  },
  {
   "cell_type": "markdown",
   "metadata": {
    "deletable": true,
    "editable": true
   },
   "source": [
    "### Convolution and Max Pooling Layer\n",
    "Convolution layers have a lot of success with images. For this code cell, you should implement the function `conv2d_maxpool` to apply convolution then max pooling:\n",
    "* Create the weight and bias using `conv_ksize`, `conv_num_outputs` and the shape of `x_tensor`.\n",
    "* Apply a convolution to `x_tensor` using weight and `conv_strides`.\n",
    " * We recommend you use same padding, but you're welcome to use any padding.\n",
    "* Add bias\n",
    "* Add a nonlinear activation to the convolution.\n",
    "* Apply Max Pooling using `pool_ksize` and `pool_strides`.\n",
    " * We recommend you use same padding, but you're welcome to use any padding.\n",
    "\n",
    "**Note:** You **can't** use [TensorFlow Layers](https://www.tensorflow.org/api_docs/python/tf/layers) or [TensorFlow Layers (contrib)](https://www.tensorflow.org/api_guides/python/contrib.layers) for **this** layer, but you can still use TensorFlow's [Neural Network](https://www.tensorflow.org/api_docs/python/tf/nn) package. You may still use the shortcut option for all the **other** layers."
   ]
  },
  {
   "cell_type": "code",
   "execution_count": 8,
   "metadata": {
    "collapsed": false,
    "deletable": true,
    "editable": true
   },
   "outputs": [
    {
     "name": "stdout",
     "output_type": "stream",
     "text": [
      "Tests Passed\n"
     ]
    }
   ],
   "source": [
    "def conv2d_maxpool(x_tensor, conv_num_outputs, conv_ksize, conv_strides, pool_ksize, pool_strides):\n",
    "    \"\"\"\n",
    "    Apply convolution then max pooling to x_tensor\n",
    "    :param x_tensor: TensorFlow Tensor\n",
    "    :param conv_num_outputs: Number of outputs for the convolutional layer\n",
    "    :param conv_ksize: kernal size 2-D Tuple for the convolutional layer\n",
    "    :param conv_strides: Stride 2-D Tuple for convolution\n",
    "    :param pool_ksize: kernal size 2-D Tuple for pool\n",
    "    :param pool_strides: Stride 2-D Tuple for pool\n",
    "    : return: A tensor that represents convolution and max pooling of x_tensor\n",
    "    \"\"\"\n",
    "    # TODO: Implement Function\n",
    "    bias = tf.Variable(tf.zeros(conv_num_outputs), trainable = True)\n",
    "    weights = tf.Variable(tf.truncated_normal((conv_ksize[0], conv_ksize[1], int(x_tensor.shape[3]), \n",
    "                                              conv_num_outputs), mean = 0.0, stddev = 0.1),trainable = True)\n",
    "   \n",
    "    conv_layer = tf.nn.conv2d(x_tensor, weights, strides = [1,conv_strides[0],conv_strides[1],1],padding = 'SAME')\n",
    "    conv_layer = tf.nn.bias_add(conv_layer, bias)\n",
    "    conv_layer = tf.nn.relu(conv_layer)\n",
    "    return tf.nn.max_pool(conv_layer,[1,pool_ksize[0],pool_ksize[1],1],[1,pool_strides[0],pool_strides[1],1],padding = 'SAME')\n",
    "\n",
    "\n",
    "\"\"\"\n",
    "DON'T MODIFY ANYTHING IN THIS CELL THAT IS BELOW THIS LINE\n",
    "\"\"\"\n",
    "tests.test_con_pool(conv2d_maxpool)"
   ]
  },
  {
   "cell_type": "markdown",
   "metadata": {
    "deletable": true,
    "editable": true
   },
   "source": [
    "### Flatten Layer\n",
    "Implement the `flatten` function to change the dimension of `x_tensor` from a 4-D tensor to a 2-D tensor.  The output should be the shape (*Batch Size*, *Flattened Image Size*). Shortcut option: you can use classes from the [TensorFlow Layers](https://www.tensorflow.org/api_docs/python/tf/layers) or [TensorFlow Layers (contrib)](https://www.tensorflow.org/api_guides/python/contrib.layers) packages for this layer. For more of a challenge, only use other TensorFlow packages."
   ]
  },
  {
   "cell_type": "code",
   "execution_count": 9,
   "metadata": {
    "collapsed": false,
    "deletable": true,
    "editable": true
   },
   "outputs": [
    {
     "name": "stdout",
     "output_type": "stream",
     "text": [
      "Tests Passed\n"
     ]
    }
   ],
   "source": [
    "def flatten(x_tensor):\n",
    "    \"\"\"\n",
    "    Flatten x_tensor to (Batch Size, Flattened Image Size)\n",
    "    : x_tensor: A tensor of size (Batch Size, ...), where ... are the image dimensions.\n",
    "    : return: A tensor of size (Batch Size, Flattened Image Size).\n",
    "    \"\"\"\n",
    "    # TODO: Implement Function\n",
    "    return tf.contrib.layers.flatten(x_tensor)\n",
    "\n",
    "\n",
    "\"\"\"\n",
    "DON'T MODIFY ANYTHING IN THIS CELL THAT IS BELOW THIS LINE\n",
    "\"\"\"\n",
    "tests.test_flatten(flatten)"
   ]
  },
  {
   "cell_type": "markdown",
   "metadata": {
    "deletable": true,
    "editable": true
   },
   "source": [
    "### Fully-Connected Layer\n",
    "Implement the `fully_conn` function to apply a fully connected layer to `x_tensor` with the shape (*Batch Size*, *num_outputs*). Shortcut option: you can use classes from the [TensorFlow Layers](https://www.tensorflow.org/api_docs/python/tf/layers) or [TensorFlow Layers (contrib)](https://www.tensorflow.org/api_guides/python/contrib.layers) packages for this layer. For more of a challenge, only use other TensorFlow packages."
   ]
  },
  {
   "cell_type": "code",
   "execution_count": 10,
   "metadata": {
    "collapsed": false,
    "deletable": true,
    "editable": true
   },
   "outputs": [
    {
     "name": "stdout",
     "output_type": "stream",
     "text": [
      "Tests Passed\n"
     ]
    }
   ],
   "source": [
    "def fully_conn(x_tensor, num_outputs):\n",
    "    \"\"\"\n",
    "    Apply a fully connected layer to x_tensor using weight and bias\n",
    "    : x_tensor: A 2-D tensor where the first dimension is batch size.\n",
    "    : num_outputs: The number of output that the new tensor should be.\n",
    "    : return: A 2-D tensor where the second dimension is num_outputs.\n",
    "    \"\"\"\n",
    "    # TODO: Implement Function\n",
    "    return tf.contrib.layers.fully_connected(x_tensor,num_outputs, activation_fn = tf.nn.relu)\n",
    "\n",
    "\n",
    "\"\"\"\n",
    "DON'T MODIFY ANYTHING IN THIS CELL THAT IS BELOW THIS LINE\n",
    "\"\"\"\n",
    "tests.test_fully_conn(fully_conn)"
   ]
  },
  {
   "cell_type": "markdown",
   "metadata": {
    "deletable": true,
    "editable": true
   },
   "source": [
    "### Output Layer\n",
    "Implement the `output` function to apply a fully connected layer to `x_tensor` with the shape (*Batch Size*, *num_outputs*). Shortcut option: you can use classes from the [TensorFlow Layers](https://www.tensorflow.org/api_docs/python/tf/layers) or [TensorFlow Layers (contrib)](https://www.tensorflow.org/api_guides/python/contrib.layers) packages for this layer. For more of a challenge, only use other TensorFlow packages.\n",
    "\n",
    "**Note:** Activation, softmax, or cross entropy should **not** be applied to this."
   ]
  },
  {
   "cell_type": "code",
   "execution_count": 11,
   "metadata": {
    "collapsed": false,
    "deletable": true,
    "editable": true
   },
   "outputs": [
    {
     "name": "stdout",
     "output_type": "stream",
     "text": [
      "Tests Passed\n"
     ]
    }
   ],
   "source": [
    "def output(x_tensor, num_outputs):\n",
    "    \"\"\"\n",
    "    Apply a output layer to x_tensor using weight and bias\n",
    "    : x_tensor: A 2-D tensor where the first dimension is batch size.\n",
    "    : num_outputs: The number of output that the new tensor should be.\n",
    "    : return: A 2-D tensor where the second dimension is num_outputs.\n",
    "    \"\"\"\n",
    "    # TODO: Implement Function\n",
    "    return tf.layers.dense(inputs=x_tensor, units=num_outputs, activation=None)\n",
    "\n",
    "\n",
    "\"\"\"\n",
    "DON'T MODIFY ANYTHING IN THIS CELL THAT IS BELOW THIS LINE\n",
    "\"\"\"\n",
    "tests.test_output(output)"
   ]
  },
  {
   "cell_type": "markdown",
   "metadata": {
    "deletable": true,
    "editable": true
   },
   "source": [
    "### Create Convolutional Model\n",
    "Implement the function `conv_net` to create a convolutional neural network model. The function takes in a batch of images, `x`, and outputs logits.  Use the layers you created above to create this model:\n",
    "\n",
    "* Apply 1, 2, or 3 Convolution and Max Pool layers\n",
    "* Apply a Flatten Layer\n",
    "* Apply 1, 2, or 3 Fully Connected Layers\n",
    "* Apply an Output Layer\n",
    "* Return the output\n",
    "* Apply [TensorFlow's Dropout](https://www.tensorflow.org/api_docs/python/tf/nn/dropout) to one or more layers in the model using `keep_prob`. "
   ]
  },
  {
   "cell_type": "code",
   "execution_count": 12,
   "metadata": {
    "collapsed": false,
    "deletable": true,
    "editable": true
   },
   "outputs": [
    {
     "name": "stdout",
     "output_type": "stream",
     "text": [
      "Neural Network Built!\n"
     ]
    }
   ],
   "source": [
    "def conv_net(x, keep_prob):\n",
    "    \"\"\"\n",
    "    Create a convolutional neural network model\n",
    "    : x: Placeholder tensor that holds image data.\n",
    "    : keep_prob: Placeholder tensor that hold dropout keep probability.\n",
    "    : return: Tensor that represents logits\n",
    "    \"\"\"\n",
    "    conv_ksize = (3,3)\n",
    "    conv_strides = (1,1)\n",
    "    pool_ksize = (3,3)\n",
    "    pool_strides = (2,2)\n",
    "    conv_num_outputs = 64\n",
    "    num_outputs = 10\n",
    "    keep_prob = 0.5\n",
    "    \n",
    "    # TODO: Apply 1, 2, or 3 Convolution and Max Pool layers\n",
    "    #    Play around with different number of outputs, kernel size and stride\n",
    "    # Function Definition from Above:\n",
    "    #    conv2d_maxpool(x_tensor, conv_num_outputs, conv_ksize, conv_strides, pool_ksize, pool_strides)\n",
    "    neural_net = conv2d_maxpool(x, conv_num_outputs, conv_ksize, conv_strides, pool_ksize, pool_strides)\n",
    "    conv_num_outputs = 128\n",
    "    neural_net = conv2d_maxpool(neural_net, conv_num_outputs, conv_ksize, conv_strides, pool_ksize, pool_strides)\n",
    "    conv_num_outputs = 192\n",
    "    neural_net = conv2d_maxpool(neural_net, conv_num_outputs, conv_ksize, conv_strides, pool_ksize, pool_strides)\n",
    "\n",
    "    # TODO: Apply a Flatten Layer\n",
    "    # Function Definition from Above:\n",
    "    #   flatten(x_tensor)\n",
    "    neural_net = flatten(neural_net)\n",
    "\n",
    "    # TODO: Apply 1, 2, or 3 Fully Connected Layers\n",
    "    #    Play around with different number of outputs\n",
    "    # Function Definition from Above:\n",
    "    #   fully_conn(x_tensor, num_outputs)\n",
    "    neural_net = fully_conn(neural_net,1024)\n",
    "    neural_net = tf.nn.dropout(neural_net, keep_prob)\n",
    "    neural_net = fully_conn(neural_net,512)\n",
    "    \n",
    "    # TODO: Apply an Output Layer\n",
    "    #    Set this to the number of classes\n",
    "    # Function Definition from Above:\n",
    "    #   output(x_tensor, num_outputs)\n",
    "    neural_net = output(neural_net,num_outputs)\n",
    "    \n",
    "    \n",
    "    \n",
    "    \n",
    "    # TODO: return output\n",
    "    return neural_net\n",
    "\n",
    "\n",
    "\"\"\"\n",
    "DON'T MODIFY ANYTHING IN THIS CELL THAT IS BELOW THIS LINE\n",
    "\"\"\"\n",
    "\n",
    "##############################\n",
    "## Build the Neural Network ##\n",
    "##############################\n",
    "\n",
    "# Remove previous weights, bias, inputs, etc..\n",
    "tf.reset_default_graph()\n",
    "\n",
    "# Inputs\n",
    "x = neural_net_image_input((32, 32, 3))\n",
    "y = neural_net_label_input(10)\n",
    "keep_prob = neural_net_keep_prob_input()\n",
    "\n",
    "# Model\n",
    "logits = conv_net(x, keep_prob)\n",
    "\n",
    "# Name logits Tensor, so that is can be loaded from disk after training\n",
    "logits = tf.identity(logits, name='logits')\n",
    "\n",
    "# Loss and Optimizer\n",
    "cost = tf.reduce_mean(tf.nn.softmax_cross_entropy_with_logits(logits=logits, labels=y))\n",
    "optimizer = tf.train.AdamOptimizer().minimize(cost)\n",
    "\n",
    "# Accuracy\n",
    "correct_pred = tf.equal(tf.argmax(logits, 1), tf.argmax(y, 1))\n",
    "accuracy = tf.reduce_mean(tf.cast(correct_pred, tf.float32), name='accuracy')\n",
    "\n",
    "tests.test_conv_net(conv_net)"
   ]
  },
  {
   "cell_type": "markdown",
   "metadata": {
    "deletable": true,
    "editable": true
   },
   "source": [
    "## Train the Neural Network\n",
    "### Single Optimization\n",
    "Implement the function `train_neural_network` to do a single optimization.  The optimization should use `optimizer` to optimize in `session` with a `feed_dict` of the following:\n",
    "* `x` for image input\n",
    "* `y` for labels\n",
    "* `keep_prob` for keep probability for dropout\n",
    "\n",
    "This function will be called for each batch, so `tf.global_variables_initializer()` has already been called.\n",
    "\n",
    "Note: Nothing needs to be returned. This function is only optimizing the neural network."
   ]
  },
  {
   "cell_type": "code",
   "execution_count": 13,
   "metadata": {
    "collapsed": false,
    "deletable": true,
    "editable": true
   },
   "outputs": [
    {
     "name": "stdout",
     "output_type": "stream",
     "text": [
      "Tests Passed\n"
     ]
    }
   ],
   "source": [
    "def train_neural_network(session, optimizer, keep_probability, feature_batch, label_batch):\n",
    "    \"\"\"\n",
    "    Optimize the session on a batch of images and labels\n",
    "    : session: Current TensorFlow session\n",
    "    : optimizer: TensorFlow optimizer function\n",
    "    : keep_probability: keep probability\n",
    "    : feature_batch: Batch of Numpy image data\n",
    "    : label_batch: Batch of Numpy label data\n",
    "    \"\"\"\n",
    "    # TODO: Implement Function\n",
    "    session.run(optimizer, feed_dict = {x : feature_batch, y: label_batch, keep_prob:keep_probability})\n",
    "\n",
    "\n",
    "\"\"\"\n",
    "DON'T MODIFY ANYTHING IN THIS CELL THAT IS BELOW THIS LINE\n",
    "\"\"\"\n",
    "tests.test_train_nn(train_neural_network)"
   ]
  },
  {
   "cell_type": "markdown",
   "metadata": {
    "deletable": true,
    "editable": true
   },
   "source": [
    "### Show Stats\n",
    "Implement the function `print_stats` to print loss and validation accuracy.  Use the global variables `valid_features` and `valid_labels` to calculate validation accuracy.  Use a keep probability of `1.0` to calculate the loss and validation accuracy."
   ]
  },
  {
   "cell_type": "code",
   "execution_count": 18,
   "metadata": {
    "collapsed": false,
    "deletable": true,
    "editable": true
   },
   "outputs": [],
   "source": [
    "def print_stats(session, feature_batch, label_batch, cost, accuracy):\n",
    "    \"\"\"\n",
    "    Print information about loss and validation accuracy\n",
    "    : session: Current TensorFlow session\n",
    "    : feature_batch: Batch of Numpy image data\n",
    "    : label_batch: Batch of Numpy label data\n",
    "    : cost: TensorFlow cost function\n",
    "    : accuracy: TensorFlow accuracy function\n",
    "    \"\"\"\n",
    "    # TODO: Implement Function\n",
    "    loss = session.run(cost, feed_dict = {x : valid_features , y: valid_labels , keep_prob:1.0})\n",
    "    accuracy = session.run(accuracy, feed_dict = {x : valid_features , y: valid_labels , keep_prob:1.0})\n",
    "    print('Loss :{:>10.4f} Validation Accuracy: {:.6f}'.format(loss,accuracy))"
   ]
  },
  {
   "cell_type": "markdown",
   "metadata": {
    "deletable": true,
    "editable": true
   },
   "source": [
    "### Hyperparameters\n",
    "Tune the following parameters:\n",
    "* Set `epochs` to the number of iterations until the network stops learning or start overfitting\n",
    "* Set `batch_size` to the highest number that your machine has memory for.  Most people set them to common sizes of memory:\n",
    " * 64\n",
    " * 128\n",
    " * 256\n",
    " * ...\n",
    "* Set `keep_probability` to the probability of keeping a node using dropout"
   ]
  },
  {
   "cell_type": "code",
   "execution_count": 24,
   "metadata": {
    "collapsed": true,
    "deletable": true,
    "editable": true
   },
   "outputs": [],
   "source": [
    "# TODO: Tune Parameters\n",
    "epochs = 64\n",
    "batch_size = 128\n",
    "keep_probability = 1.0"
   ]
  },
  {
   "cell_type": "markdown",
   "metadata": {
    "deletable": true,
    "editable": true
   },
   "source": [
    "### Train on a Single CIFAR-10 Batch\n",
    "Instead of training the neural network on all the CIFAR-10 batches of data, let's use a single batch. This should save time while you iterate on the model to get a better accuracy.  Once the final validation accuracy is 50% or greater, run the model on all the data in the next section."
   ]
  },
  {
   "cell_type": "code",
   "execution_count": 23,
   "metadata": {
    "collapsed": false,
    "deletable": true,
    "editable": true
   },
   "outputs": [
    {
     "name": "stdout",
     "output_type": "stream",
     "text": [
      "Checking the Training on a Single Batch...\n",
      "Epoch  1, CIFAR-10 Batch 1:  Loss :    1.7978 Validation Accuracy: 0.316600\n",
      "Epoch  2, CIFAR-10 Batch 1:  Loss :    1.6367 Validation Accuracy: 0.377800\n",
      "Epoch  3, CIFAR-10 Batch 1:  Loss :    1.4349 Validation Accuracy: 0.465000\n",
      "Epoch  4, CIFAR-10 Batch 1:  Loss :    1.3331 Validation Accuracy: 0.513400\n",
      "Epoch  5, CIFAR-10 Batch 1:  Loss :    1.2937 Validation Accuracy: 0.547400\n",
      "Epoch  6, CIFAR-10 Batch 1:  Loss :    1.2612 Validation Accuracy: 0.562400\n",
      "Epoch  7, CIFAR-10 Batch 1:  Loss :    1.1974 Validation Accuracy: 0.574200\n",
      "Epoch  8, CIFAR-10 Batch 1:  Loss :    1.2818 Validation Accuracy: 0.589400\n",
      "Epoch  9, CIFAR-10 Batch 1:  Loss :    1.2551 Validation Accuracy: 0.592400\n",
      "Epoch 10, CIFAR-10 Batch 1:  Loss :    1.2472 Validation Accuracy: 0.605400\n",
      "Epoch 11, CIFAR-10 Batch 1:  Loss :    1.3560 Validation Accuracy: 0.586000\n",
      "Epoch 12, CIFAR-10 Batch 1:  Loss :    1.4548 Validation Accuracy: 0.597800\n",
      "Epoch 13, CIFAR-10 Batch 1:  Loss :    1.5002 Validation Accuracy: 0.589200\n",
      "Epoch 14, CIFAR-10 Batch 1:  Loss :    1.4267 Validation Accuracy: 0.607000\n",
      "Epoch 15, CIFAR-10 Batch 1:  Loss :    1.5421 Validation Accuracy: 0.583600\n",
      "Epoch 16, CIFAR-10 Batch 1:  Loss :    1.5171 Validation Accuracy: 0.603400\n",
      "Epoch 17, CIFAR-10 Batch 1:  Loss :    1.4631 Validation Accuracy: 0.617000\n",
      "Epoch 18, CIFAR-10 Batch 1:  Loss :    1.4858 Validation Accuracy: 0.627000\n",
      "Epoch 19, CIFAR-10 Batch 1:  Loss :    1.6261 Validation Accuracy: 0.619200\n",
      "Epoch 20, CIFAR-10 Batch 1:  Loss :    1.6609 Validation Accuracy: 0.617200\n",
      "Epoch 21, CIFAR-10 Batch 1:  Loss :    1.8473 Validation Accuracy: 0.614000\n",
      "Epoch 22, CIFAR-10 Batch 1:  Loss :    1.8102 Validation Accuracy: 0.622200\n",
      "Epoch 23, CIFAR-10 Batch 1:  Loss :    2.1825 Validation Accuracy: 0.595400\n",
      "Epoch 24, CIFAR-10 Batch 1:  Loss :    1.9476 Validation Accuracy: 0.616800\n",
      "Epoch 25, CIFAR-10 Batch 1:  Loss :    2.0257 Validation Accuracy: 0.610400\n",
      "Epoch 26, CIFAR-10 Batch 1:  Loss :    2.0767 Validation Accuracy: 0.604800\n",
      "Epoch 27, CIFAR-10 Batch 1:  Loss :    2.0286 Validation Accuracy: 0.618400\n",
      "Epoch 28, CIFAR-10 Batch 1:  Loss :    2.0330 Validation Accuracy: 0.623200\n",
      "Epoch 29, CIFAR-10 Batch 1:  Loss :    2.0872 Validation Accuracy: 0.624000\n",
      "Epoch 30, CIFAR-10 Batch 1:  Loss :    2.1480 Validation Accuracy: 0.614200\n"
     ]
    }
   ],
   "source": [
    "\"\"\"\n",
    "DON'T MODIFY ANYTHING IN THIS CELL\n",
    "\"\"\"\n",
    "print('Checking the Training on a Single Batch...')\n",
    "with tf.Session() as sess:\n",
    "    # Initializing the variables\n",
    "    sess.run(tf.global_variables_initializer())\n",
    "    \n",
    "    # Training cycle\n",
    "    for epoch in range(epochs):\n",
    "        batch_i = 1\n",
    "        for batch_features, batch_labels in helper.load_preprocess_training_batch(batch_i, batch_size):\n",
    "            train_neural_network(sess, optimizer, keep_probability, batch_features, batch_labels)\n",
    "        print('Epoch {:>2}, CIFAR-10 Batch {}:  '.format(epoch + 1, batch_i), end='')\n",
    "        print_stats(sess, batch_features, batch_labels, cost, accuracy)"
   ]
  },
  {
   "cell_type": "markdown",
   "metadata": {
    "deletable": true,
    "editable": true
   },
   "source": [
    "### Fully Train the Model\n",
    "Now that you got a good accuracy with a single CIFAR-10 batch, try it with all five batches."
   ]
  },
  {
   "cell_type": "code",
   "execution_count": 26,
   "metadata": {
    "collapsed": false,
    "deletable": true,
    "editable": true
   },
   "outputs": [
    {
     "name": "stdout",
     "output_type": "stream",
     "text": [
      "Training...\n",
      "Epoch  1, CIFAR-10 Batch 1:  Loss :    1.8757 Validation Accuracy: 0.309400\n",
      "Epoch  1, CIFAR-10 Batch 2:  Loss :    1.6064 Validation Accuracy: 0.407200\n",
      "Epoch  1, CIFAR-10 Batch 3:  Loss :    1.3701 Validation Accuracy: 0.497200\n",
      "Epoch  1, CIFAR-10 Batch 4:  Loss :    1.2922 Validation Accuracy: 0.541600\n",
      "Epoch  1, CIFAR-10 Batch 5:  Loss :    1.2228 Validation Accuracy: 0.564200\n",
      "Epoch  2, CIFAR-10 Batch 1:  Loss :    1.2557 Validation Accuracy: 0.555400\n",
      "Epoch  2, CIFAR-10 Batch 2:  Loss :    1.1581 Validation Accuracy: 0.586400\n",
      "Epoch  2, CIFAR-10 Batch 3:  Loss :    1.1300 Validation Accuracy: 0.597800\n",
      "Epoch  2, CIFAR-10 Batch 4:  Loss :    1.0608 Validation Accuracy: 0.623400\n",
      "Epoch  2, CIFAR-10 Batch 5:  Loss :    1.0366 Validation Accuracy: 0.630200\n",
      "Epoch  3, CIFAR-10 Batch 1:  Loss :    1.0624 Validation Accuracy: 0.619400\n",
      "Epoch  3, CIFAR-10 Batch 2:  Loss :    1.0050 Validation Accuracy: 0.646400\n",
      "Epoch  3, CIFAR-10 Batch 3:  Loss :    0.9858 Validation Accuracy: 0.656200\n",
      "Epoch  3, CIFAR-10 Batch 4:  Loss :    0.9353 Validation Accuracy: 0.666600\n",
      "Epoch  3, CIFAR-10 Batch 5:  Loss :    0.9203 Validation Accuracy: 0.678800\n",
      "Epoch  4, CIFAR-10 Batch 1:  Loss :    0.9430 Validation Accuracy: 0.680000\n",
      "Epoch  4, CIFAR-10 Batch 2:  Loss :    0.9118 Validation Accuracy: 0.689600\n",
      "Epoch  4, CIFAR-10 Batch 3:  Loss :    0.8891 Validation Accuracy: 0.691600\n",
      "Epoch  4, CIFAR-10 Batch 4:  Loss :    0.8851 Validation Accuracy: 0.692800\n",
      "Epoch  4, CIFAR-10 Batch 5:  Loss :    0.8864 Validation Accuracy: 0.699800\n",
      "Epoch  5, CIFAR-10 Batch 1:  Loss :    0.9012 Validation Accuracy: 0.684000\n",
      "Epoch  5, CIFAR-10 Batch 2:  Loss :    0.8675 Validation Accuracy: 0.705800\n",
      "Epoch  5, CIFAR-10 Batch 3:  Loss :    0.8770 Validation Accuracy: 0.702000\n",
      "Epoch  5, CIFAR-10 Batch 4:  Loss :    0.8763 Validation Accuracy: 0.704800\n",
      "Epoch  5, CIFAR-10 Batch 5:  Loss :    0.8289 Validation Accuracy: 0.717400\n",
      "Epoch  6, CIFAR-10 Batch 1:  Loss :    0.8767 Validation Accuracy: 0.699200\n",
      "Epoch  6, CIFAR-10 Batch 2:  Loss :    0.8971 Validation Accuracy: 0.706400\n",
      "Epoch  6, CIFAR-10 Batch 3:  Loss :    0.8718 Validation Accuracy: 0.710400\n",
      "Epoch  6, CIFAR-10 Batch 4:  Loss :    0.8971 Validation Accuracy: 0.706600\n",
      "Epoch  6, CIFAR-10 Batch 5:  Loss :    0.8596 Validation Accuracy: 0.715600\n",
      "Epoch  7, CIFAR-10 Batch 1:  Loss :    0.8549 Validation Accuracy: 0.722600\n",
      "Epoch  7, CIFAR-10 Batch 2:  Loss :    0.8679 Validation Accuracy: 0.717000\n",
      "Epoch  7, CIFAR-10 Batch 3:  Loss :    0.9051 Validation Accuracy: 0.715600\n",
      "Epoch  7, CIFAR-10 Batch 4:  Loss :    0.8737 Validation Accuracy: 0.720400\n",
      "Epoch  7, CIFAR-10 Batch 5:  Loss :    0.8549 Validation Accuracy: 0.716400\n",
      "Epoch  8, CIFAR-10 Batch 1:  Loss :    0.8503 Validation Accuracy: 0.729600\n",
      "Epoch  8, CIFAR-10 Batch 2:  Loss :    0.9441 Validation Accuracy: 0.700400\n",
      "Epoch  8, CIFAR-10 Batch 3:  Loss :    1.0144 Validation Accuracy: 0.696800\n",
      "Epoch  8, CIFAR-10 Batch 4:  Loss :    0.8737 Validation Accuracy: 0.730600\n",
      "Epoch  8, CIFAR-10 Batch 5:  Loss :    0.9320 Validation Accuracy: 0.695400\n",
      "Epoch  9, CIFAR-10 Batch 1:  Loss :    0.8571 Validation Accuracy: 0.732200\n",
      "Epoch  9, CIFAR-10 Batch 2:  Loss :    0.9183 Validation Accuracy: 0.729800\n",
      "Epoch  9, CIFAR-10 Batch 3:  Loss :    0.9330 Validation Accuracy: 0.731200\n",
      "Epoch  9, CIFAR-10 Batch 4:  Loss :    0.9423 Validation Accuracy: 0.722600\n",
      "Epoch  9, CIFAR-10 Batch 5:  Loss :    0.9386 Validation Accuracy: 0.701400\n",
      "Epoch 10, CIFAR-10 Batch 1:  Loss :    0.9058 Validation Accuracy: 0.734000\n",
      "Epoch 10, CIFAR-10 Batch 2:  Loss :    0.9322 Validation Accuracy: 0.719400\n",
      "Epoch 10, CIFAR-10 Batch 3:  Loss :    0.9369 Validation Accuracy: 0.718600\n",
      "Epoch 10, CIFAR-10 Batch 4:  Loss :    0.9415 Validation Accuracy: 0.737200\n",
      "Epoch 10, CIFAR-10 Batch 5:  Loss :    0.9228 Validation Accuracy: 0.719600\n",
      "Epoch 11, CIFAR-10 Batch 1:  Loss :    0.8718 Validation Accuracy: 0.743000\n",
      "Epoch 11, CIFAR-10 Batch 2:  Loss :    0.9540 Validation Accuracy: 0.733200\n",
      "Epoch 11, CIFAR-10 Batch 3:  Loss :    0.9012 Validation Accuracy: 0.730400\n",
      "Epoch 11, CIFAR-10 Batch 4:  Loss :    0.9985 Validation Accuracy: 0.711800\n",
      "Epoch 11, CIFAR-10 Batch 5:  Loss :    0.9423 Validation Accuracy: 0.717600\n",
      "Epoch 12, CIFAR-10 Batch 1:  Loss :    0.9108 Validation Accuracy: 0.741200\n",
      "Epoch 12, CIFAR-10 Batch 2:  Loss :    1.0968 Validation Accuracy: 0.725400\n",
      "Epoch 12, CIFAR-10 Batch 3:  Loss :    0.9749 Validation Accuracy: 0.724000\n",
      "Epoch 12, CIFAR-10 Batch 4:  Loss :    1.0400 Validation Accuracy: 0.716600\n",
      "Epoch 12, CIFAR-10 Batch 5:  Loss :    0.9512 Validation Accuracy: 0.726200\n",
      "Epoch 13, CIFAR-10 Batch 1:  Loss :    0.9805 Validation Accuracy: 0.732200\n",
      "Epoch 13, CIFAR-10 Batch 2:  Loss :    1.1213 Validation Accuracy: 0.714200\n",
      "Epoch 13, CIFAR-10 Batch 3:  Loss :    1.0571 Validation Accuracy: 0.712400\n",
      "Epoch 13, CIFAR-10 Batch 4:  Loss :    1.0159 Validation Accuracy: 0.722000\n",
      "Epoch 13, CIFAR-10 Batch 5:  Loss :    0.9654 Validation Accuracy: 0.725400\n",
      "Epoch 14, CIFAR-10 Batch 1:  Loss :    0.9962 Validation Accuracy: 0.733200\n",
      "Epoch 14, CIFAR-10 Batch 2:  Loss :    1.1011 Validation Accuracy: 0.712600\n",
      "Epoch 14, CIFAR-10 Batch 3:  Loss :    1.0306 Validation Accuracy: 0.725800\n",
      "Epoch 14, CIFAR-10 Batch 4:  Loss :    1.0958 Validation Accuracy: 0.719400\n",
      "Epoch 14, CIFAR-10 Batch 5:  Loss :    1.0895 Validation Accuracy: 0.708800\n",
      "Epoch 15, CIFAR-10 Batch 1:  Loss :    1.0645 Validation Accuracy: 0.719200\n",
      "Epoch 15, CIFAR-10 Batch 2:  Loss :    1.1402 Validation Accuracy: 0.723200\n",
      "Epoch 15, CIFAR-10 Batch 3:  Loss :    1.0133 Validation Accuracy: 0.740800\n",
      "Epoch 15, CIFAR-10 Batch 4:  Loss :    1.1010 Validation Accuracy: 0.721800\n",
      "Epoch 15, CIFAR-10 Batch 5:  Loss :    1.0699 Validation Accuracy: 0.723000\n",
      "Epoch 16, CIFAR-10 Batch 1:  Loss :    1.1641 Validation Accuracy: 0.712200\n",
      "Epoch 16, CIFAR-10 Batch 2:  Loss :    1.1595 Validation Accuracy: 0.721800\n",
      "Epoch 16, CIFAR-10 Batch 3:  Loss :    1.1177 Validation Accuracy: 0.727600\n",
      "Epoch 16, CIFAR-10 Batch 4:  Loss :    1.1594 Validation Accuracy: 0.706200\n",
      "Epoch 16, CIFAR-10 Batch 5:  Loss :    1.0142 Validation Accuracy: 0.733600\n",
      "Epoch 17, CIFAR-10 Batch 1:  Loss :    1.0809 Validation Accuracy: 0.729400\n",
      "Epoch 17, CIFAR-10 Batch 2:  Loss :    1.1674 Validation Accuracy: 0.717600\n",
      "Epoch 17, CIFAR-10 Batch 3:  Loss :    1.0775 Validation Accuracy: 0.732800\n",
      "Epoch 17, CIFAR-10 Batch 4:  Loss :    1.1499 Validation Accuracy: 0.716200\n",
      "Epoch 17, CIFAR-10 Batch 5:  Loss :    1.0416 Validation Accuracy: 0.743400\n",
      "Epoch 18, CIFAR-10 Batch 1:  Loss :    1.0774 Validation Accuracy: 0.736000\n",
      "Epoch 18, CIFAR-10 Batch 2:  Loss :    1.1311 Validation Accuracy: 0.722400\n",
      "Epoch 18, CIFAR-10 Batch 3:  Loss :    1.0656 Validation Accuracy: 0.738200\n",
      "Epoch 18, CIFAR-10 Batch 4:  Loss :    1.1279 Validation Accuracy: 0.729000\n",
      "Epoch 18, CIFAR-10 Batch 5:  Loss :    1.1333 Validation Accuracy: 0.736600\n",
      "Epoch 19, CIFAR-10 Batch 1:  Loss :    1.1056 Validation Accuracy: 0.735600\n",
      "Epoch 19, CIFAR-10 Batch 2:  Loss :    1.1863 Validation Accuracy: 0.732400\n",
      "Epoch 19, CIFAR-10 Batch 3:  Loss :    1.2266 Validation Accuracy: 0.724200\n",
      "Epoch 19, CIFAR-10 Batch 4:  Loss :    1.1296 Validation Accuracy: 0.730400\n",
      "Epoch 19, CIFAR-10 Batch 5:  Loss :    1.3516 Validation Accuracy: 0.717400\n",
      "Epoch 20, CIFAR-10 Batch 1:  Loss :    1.1635 Validation Accuracy: 0.737000\n",
      "Epoch 20, CIFAR-10 Batch 2:  Loss :    1.2679 Validation Accuracy: 0.729400\n",
      "Epoch 20, CIFAR-10 Batch 3:  Loss :    1.1641 Validation Accuracy: 0.730800\n",
      "Epoch 20, CIFAR-10 Batch 4:  Loss :    1.0883 Validation Accuracy: 0.734600\n",
      "Epoch 20, CIFAR-10 Batch 5:  Loss :    1.3043 Validation Accuracy: 0.717200\n",
      "Epoch 21, CIFAR-10 Batch 1:  Loss :    1.1923 Validation Accuracy: 0.743200\n",
      "Epoch 21, CIFAR-10 Batch 2:  Loss :    1.2024 Validation Accuracy: 0.726200\n",
      "Epoch 21, CIFAR-10 Batch 3:  Loss :    1.2252 Validation Accuracy: 0.728200\n",
      "Epoch 21, CIFAR-10 Batch 4:  Loss :    1.1841 Validation Accuracy: 0.729600\n",
      "Epoch 21, CIFAR-10 Batch 5:  Loss :    1.2078 Validation Accuracy: 0.725400\n",
      "Epoch 22, CIFAR-10 Batch 1:  Loss :    1.2037 Validation Accuracy: 0.744400\n",
      "Epoch 22, CIFAR-10 Batch 2:  Loss :    1.2321 Validation Accuracy: 0.742800\n",
      "Epoch 22, CIFAR-10 Batch 3:  Loss :    1.2610 Validation Accuracy: 0.737200\n",
      "Epoch 22, CIFAR-10 Batch 4:  Loss :    1.2660 Validation Accuracy: 0.728000\n",
      "Epoch 22, CIFAR-10 Batch 5:  Loss :    1.3013 Validation Accuracy: 0.721200\n",
      "Epoch 23, CIFAR-10 Batch 1:  Loss :    1.2678 Validation Accuracy: 0.741200\n",
      "Epoch 23, CIFAR-10 Batch 2:  Loss :    1.1991 Validation Accuracy: 0.741800\n",
      "Epoch 23, CIFAR-10 Batch 3:  Loss :    1.2736 Validation Accuracy: 0.741000\n",
      "Epoch 23, CIFAR-10 Batch 4:  Loss :    1.1970 Validation Accuracy: 0.735600\n",
      "Epoch 23, CIFAR-10 Batch 5:  Loss :    1.2932 Validation Accuracy: 0.720600\n",
      "Epoch 24, CIFAR-10 Batch 1:  Loss :    1.2477 Validation Accuracy: 0.734200\n",
      "Epoch 24, CIFAR-10 Batch 2:  Loss :    1.2206 Validation Accuracy: 0.736600\n",
      "Epoch 24, CIFAR-10 Batch 3:  Loss :    1.3103 Validation Accuracy: 0.738400\n",
      "Epoch 24, CIFAR-10 Batch 4:  Loss :    1.2027 Validation Accuracy: 0.737200\n",
      "Epoch 24, CIFAR-10 Batch 5:  Loss :    1.4403 Validation Accuracy: 0.718600\n",
      "Epoch 25, CIFAR-10 Batch 1:  Loss :    1.2499 Validation Accuracy: 0.741200\n",
      "Epoch 25, CIFAR-10 Batch 2:  Loss :    1.2724 Validation Accuracy: 0.733200\n",
      "Epoch 25, CIFAR-10 Batch 3:  Loss :    1.2592 Validation Accuracy: 0.742200\n",
      "Epoch 25, CIFAR-10 Batch 4:  Loss :    1.2563 Validation Accuracy: 0.740800\n",
      "Epoch 25, CIFAR-10 Batch 5:  Loss :    1.3312 Validation Accuracy: 0.734800\n",
      "Epoch 26, CIFAR-10 Batch 1:  Loss :    1.3730 Validation Accuracy: 0.731200\n",
      "Epoch 26, CIFAR-10 Batch 2:  Loss :    1.3807 Validation Accuracy: 0.732800\n",
      "Epoch 26, CIFAR-10 Batch 3:  Loss :    1.3373 Validation Accuracy: 0.746800\n",
      "Epoch 26, CIFAR-10 Batch 4:  Loss :    1.4300 Validation Accuracy: 0.718600\n",
      "Epoch 26, CIFAR-10 Batch 5:  Loss :    1.3757 Validation Accuracy: 0.730600\n",
      "Epoch 27, CIFAR-10 Batch 1:  Loss :    1.3624 Validation Accuracy: 0.736200\n",
      "Epoch 27, CIFAR-10 Batch 2:  Loss :    1.2738 Validation Accuracy: 0.740000\n",
      "Epoch 27, CIFAR-10 Batch 3:  Loss :    1.2838 Validation Accuracy: 0.749400\n",
      "Epoch 27, CIFAR-10 Batch 4:  Loss :    1.3454 Validation Accuracy: 0.733000\n",
      "Epoch 27, CIFAR-10 Batch 5:  Loss :    1.2696 Validation Accuracy: 0.743800\n",
      "Epoch 28, CIFAR-10 Batch 1:  Loss :    1.4048 Validation Accuracy: 0.735200\n",
      "Epoch 28, CIFAR-10 Batch 2:  Loss :    1.2219 Validation Accuracy: 0.745600\n",
      "Epoch 28, CIFAR-10 Batch 3:  Loss :    1.3951 Validation Accuracy: 0.737200\n",
      "Epoch 28, CIFAR-10 Batch 4:  Loss :    1.4746 Validation Accuracy: 0.724000\n",
      "Epoch 28, CIFAR-10 Batch 5:  Loss :    1.4755 Validation Accuracy: 0.729000\n",
      "Epoch 29, CIFAR-10 Batch 1:  Loss :    1.3990 Validation Accuracy: 0.741200\n",
      "Epoch 29, CIFAR-10 Batch 2:  Loss :    1.3452 Validation Accuracy: 0.736000\n",
      "Epoch 29, CIFAR-10 Batch 3:  Loss :    1.3936 Validation Accuracy: 0.742200\n",
      "Epoch 29, CIFAR-10 Batch 4:  Loss :    1.3446 Validation Accuracy: 0.739400\n",
      "Epoch 29, CIFAR-10 Batch 5:  Loss :    1.5320 Validation Accuracy: 0.730800\n",
      "Epoch 30, CIFAR-10 Batch 1:  Loss :    1.4376 Validation Accuracy: 0.739200\n",
      "Epoch 30, CIFAR-10 Batch 2:  Loss :    1.4003 Validation Accuracy: 0.732200\n",
      "Epoch 30, CIFAR-10 Batch 3:  Loss :    1.3904 Validation Accuracy: 0.741600\n",
      "Epoch 30, CIFAR-10 Batch 4:  Loss :    1.4092 Validation Accuracy: 0.738600\n",
      "Epoch 30, CIFAR-10 Batch 5:  Loss :    1.3219 Validation Accuracy: 0.749200\n",
      "Epoch 31, CIFAR-10 Batch 1:  Loss :    1.3910 Validation Accuracy: 0.735600\n",
      "Epoch 31, CIFAR-10 Batch 2:  Loss :    1.4104 Validation Accuracy: 0.722400\n",
      "Epoch 31, CIFAR-10 Batch 3:  Loss :    1.3900 Validation Accuracy: 0.733200\n",
      "Epoch 31, CIFAR-10 Batch 4:  Loss :    1.4317 Validation Accuracy: 0.731000\n",
      "Epoch 31, CIFAR-10 Batch 5:  Loss :    1.3878 Validation Accuracy: 0.736800\n",
      "Epoch 32, CIFAR-10 Batch 1:  Loss :    1.4551 Validation Accuracy: 0.727200\n",
      "Epoch 32, CIFAR-10 Batch 2:  Loss :    1.5056 Validation Accuracy: 0.714000\n",
      "Epoch 32, CIFAR-10 Batch 3:  Loss :    1.4083 Validation Accuracy: 0.750400\n",
      "Epoch 32, CIFAR-10 Batch 4:  Loss :    1.3711 Validation Accuracy: 0.730600\n",
      "Epoch 32, CIFAR-10 Batch 5:  Loss :    1.4163 Validation Accuracy: 0.741600\n",
      "Epoch 33, CIFAR-10 Batch 1:  Loss :    1.4174 Validation Accuracy: 0.749400\n",
      "Epoch 33, CIFAR-10 Batch 2:  Loss :    1.3975 Validation Accuracy: 0.742200\n",
      "Epoch 33, CIFAR-10 Batch 3:  Loss :    1.3695 Validation Accuracy: 0.746200\n",
      "Epoch 33, CIFAR-10 Batch 4:  Loss :    1.4460 Validation Accuracy: 0.730800\n",
      "Epoch 33, CIFAR-10 Batch 5:  Loss :    1.4390 Validation Accuracy: 0.736000\n",
      "Epoch 34, CIFAR-10 Batch 1:  Loss :    1.4346 Validation Accuracy: 0.741200\n",
      "Epoch 34, CIFAR-10 Batch 2:  Loss :    1.4609 Validation Accuracy: 0.731200\n",
      "Epoch 34, CIFAR-10 Batch 3:  Loss :    1.5215 Validation Accuracy: 0.739800\n",
      "Epoch 34, CIFAR-10 Batch 4:  Loss :    1.4437 Validation Accuracy: 0.744600\n",
      "Epoch 34, CIFAR-10 Batch 5:  Loss :    1.3617 Validation Accuracy: 0.752000\n",
      "Epoch 35, CIFAR-10 Batch 1:  Loss :    1.3676 Validation Accuracy: 0.740000\n",
      "Epoch 35, CIFAR-10 Batch 2:  Loss :    1.4551 Validation Accuracy: 0.734600\n",
      "Epoch 35, CIFAR-10 Batch 3:  Loss :    1.2701 Validation Accuracy: 0.756600\n",
      "Epoch 35, CIFAR-10 Batch 4:  Loss :    1.4901 Validation Accuracy: 0.733000\n",
      "Epoch 35, CIFAR-10 Batch 5:  Loss :    1.4865 Validation Accuracy: 0.743600\n",
      "Epoch 36, CIFAR-10 Batch 1:  Loss :    1.4428 Validation Accuracy: 0.742800\n",
      "Epoch 36, CIFAR-10 Batch 2:  Loss :    1.4087 Validation Accuracy: 0.744400\n",
      "Epoch 36, CIFAR-10 Batch 3:  Loss :    1.4456 Validation Accuracy: 0.751800\n",
      "Epoch 36, CIFAR-10 Batch 4:  Loss :    1.4951 Validation Accuracy: 0.729400\n",
      "Epoch 36, CIFAR-10 Batch 5:  Loss :    1.3755 Validation Accuracy: 0.750400\n",
      "Epoch 37, CIFAR-10 Batch 1:  Loss :    1.5290 Validation Accuracy: 0.727600\n",
      "Epoch 37, CIFAR-10 Batch 2:  Loss :    1.4197 Validation Accuracy: 0.753800\n",
      "Epoch 37, CIFAR-10 Batch 3:  Loss :    1.4438 Validation Accuracy: 0.749600\n",
      "Epoch 37, CIFAR-10 Batch 4:  Loss :    1.4488 Validation Accuracy: 0.743000\n",
      "Epoch 37, CIFAR-10 Batch 5:  Loss :    1.3624 Validation Accuracy: 0.752400\n",
      "Epoch 38, CIFAR-10 Batch 1:  Loss :    1.4326 Validation Accuracy: 0.748000\n",
      "Epoch 38, CIFAR-10 Batch 2:  Loss :    1.4400 Validation Accuracy: 0.747400\n",
      "Epoch 38, CIFAR-10 Batch 3:  Loss :    1.4915 Validation Accuracy: 0.749800\n",
      "Epoch 38, CIFAR-10 Batch 4:  Loss :    1.5356 Validation Accuracy: 0.737200\n",
      "Epoch 38, CIFAR-10 Batch 5:  Loss :    1.3844 Validation Accuracy: 0.748200\n",
      "Epoch 39, CIFAR-10 Batch 1:  Loss :    1.5212 Validation Accuracy: 0.737000\n",
      "Epoch 39, CIFAR-10 Batch 2:  Loss :    1.5609 Validation Accuracy: 0.741600\n",
      "Epoch 39, CIFAR-10 Batch 3:  Loss :    1.4887 Validation Accuracy: 0.751400\n",
      "Epoch 39, CIFAR-10 Batch 4:  Loss :    1.4505 Validation Accuracy: 0.738400\n",
      "Epoch 39, CIFAR-10 Batch 5:  Loss :    1.4558 Validation Accuracy: 0.747000\n",
      "Epoch 40, CIFAR-10 Batch 1:  Loss :    1.5161 Validation Accuracy: 0.738600\n",
      "Epoch 40, CIFAR-10 Batch 2:  Loss :    1.5316 Validation Accuracy: 0.746600\n",
      "Epoch 40, CIFAR-10 Batch 3:  Loss :    1.5472 Validation Accuracy: 0.748200\n",
      "Epoch 40, CIFAR-10 Batch 4:  Loss :    1.4200 Validation Accuracy: 0.752600\n",
      "Epoch 40, CIFAR-10 Batch 5:  Loss :    1.4754 Validation Accuracy: 0.748200\n",
      "Epoch 41, CIFAR-10 Batch 1:  Loss :    1.5838 Validation Accuracy: 0.736600\n",
      "Epoch 41, CIFAR-10 Batch 2:  Loss :    1.5346 Validation Accuracy: 0.734400\n",
      "Epoch 41, CIFAR-10 Batch 3:  Loss :    1.4659 Validation Accuracy: 0.745400\n",
      "Epoch 41, CIFAR-10 Batch 4:  Loss :    1.4536 Validation Accuracy: 0.750200\n",
      "Epoch 41, CIFAR-10 Batch 5:  Loss :    1.4648 Validation Accuracy: 0.752200\n",
      "Epoch 42, CIFAR-10 Batch 1:  Loss :    1.5814 Validation Accuracy: 0.735800\n",
      "Epoch 42, CIFAR-10 Batch 2:  Loss :    1.5703 Validation Accuracy: 0.749600\n",
      "Epoch 42, CIFAR-10 Batch 3:  Loss :    1.5102 Validation Accuracy: 0.751000\n",
      "Epoch 42, CIFAR-10 Batch 4:  Loss :    1.4141 Validation Accuracy: 0.747200\n",
      "Epoch 42, CIFAR-10 Batch 5:  Loss :    1.4765 Validation Accuracy: 0.745000\n",
      "Epoch 43, CIFAR-10 Batch 1:  Loss :    1.4722 Validation Accuracy: 0.749000\n",
      "Epoch 43, CIFAR-10 Batch 2:  Loss :    1.6453 Validation Accuracy: 0.718200\n",
      "Epoch 43, CIFAR-10 Batch 3:  Loss :    1.5408 Validation Accuracy: 0.740200\n",
      "Epoch 43, CIFAR-10 Batch 4:  Loss :    1.3728 Validation Accuracy: 0.746200\n",
      "Epoch 43, CIFAR-10 Batch 5:  Loss :    1.4755 Validation Accuracy: 0.751600\n",
      "Epoch 44, CIFAR-10 Batch 1:  Loss :    1.4791 Validation Accuracy: 0.753000\n",
      "Epoch 44, CIFAR-10 Batch 2:  Loss :    1.4577 Validation Accuracy: 0.756200\n",
      "Epoch 44, CIFAR-10 Batch 3:  Loss :    1.6393 Validation Accuracy: 0.741600\n",
      "Epoch 44, CIFAR-10 Batch 4:  Loss :    1.4544 Validation Accuracy: 0.756600\n",
      "Epoch 44, CIFAR-10 Batch 5:  Loss :    1.6760 Validation Accuracy: 0.736600\n",
      "Epoch 45, CIFAR-10 Batch 1:  Loss :    1.5491 Validation Accuracy: 0.746200\n",
      "Epoch 45, CIFAR-10 Batch 2:  Loss :    1.5284 Validation Accuracy: 0.744400\n",
      "Epoch 45, CIFAR-10 Batch 3:  Loss :    1.4885 Validation Accuracy: 0.752400\n",
      "Epoch 45, CIFAR-10 Batch 4:  Loss :    1.4318 Validation Accuracy: 0.747400\n",
      "Epoch 45, CIFAR-10 Batch 5:  Loss :    1.4813 Validation Accuracy: 0.751000\n",
      "Epoch 46, CIFAR-10 Batch 1:  Loss :    1.5403 Validation Accuracy: 0.754600\n",
      "Epoch 46, CIFAR-10 Batch 2:  Loss :    1.5813 Validation Accuracy: 0.741600\n",
      "Epoch 46, CIFAR-10 Batch 3:  Loss :    1.4633 Validation Accuracy: 0.749400\n",
      "Epoch 46, CIFAR-10 Batch 4:  Loss :    1.4857 Validation Accuracy: 0.747400\n",
      "Epoch 46, CIFAR-10 Batch 5:  Loss :    1.4514 Validation Accuracy: 0.758600\n",
      "Epoch 47, CIFAR-10 Batch 1:  Loss :    1.5176 Validation Accuracy: 0.747400\n",
      "Epoch 47, CIFAR-10 Batch 2:  Loss :    1.5851 Validation Accuracy: 0.743000\n",
      "Epoch 47, CIFAR-10 Batch 3:  Loss :    1.5172 Validation Accuracy: 0.752200\n",
      "Epoch 47, CIFAR-10 Batch 4:  Loss :    1.4618 Validation Accuracy: 0.753800\n",
      "Epoch 47, CIFAR-10 Batch 5:  Loss :    1.4845 Validation Accuracy: 0.759400\n",
      "Epoch 48, CIFAR-10 Batch 1:  Loss :    1.6388 Validation Accuracy: 0.740400\n",
      "Epoch 48, CIFAR-10 Batch 2:  Loss :    1.6682 Validation Accuracy: 0.735800\n",
      "Epoch 48, CIFAR-10 Batch 3:  Loss :    1.5896 Validation Accuracy: 0.741600\n",
      "Epoch 48, CIFAR-10 Batch 4:  Loss :    1.4710 Validation Accuracy: 0.755800\n",
      "Epoch 48, CIFAR-10 Batch 5:  Loss :    1.6093 Validation Accuracy: 0.752800\n",
      "Epoch 49, CIFAR-10 Batch 1:  Loss :    1.6687 Validation Accuracy: 0.740400\n",
      "Epoch 49, CIFAR-10 Batch 2:  Loss :    1.6267 Validation Accuracy: 0.732600\n",
      "Epoch 49, CIFAR-10 Batch 3:  Loss :    1.4857 Validation Accuracy: 0.757200\n",
      "Epoch 49, CIFAR-10 Batch 4:  Loss :    1.4853 Validation Accuracy: 0.748800\n",
      "Epoch 49, CIFAR-10 Batch 5:  Loss :    1.6293 Validation Accuracy: 0.737400\n",
      "Epoch 50, CIFAR-10 Batch 1:  Loss :    1.5871 Validation Accuracy: 0.751400\n",
      "Epoch 50, CIFAR-10 Batch 2:  Loss :    1.4767 Validation Accuracy: 0.742800\n",
      "Epoch 50, CIFAR-10 Batch 3:  Loss :    1.6577 Validation Accuracy: 0.745800\n",
      "Epoch 50, CIFAR-10 Batch 4:  Loss :    1.5477 Validation Accuracy: 0.752600\n",
      "Epoch 50, CIFAR-10 Batch 5:  Loss :    1.6509 Validation Accuracy: 0.742400\n",
      "Epoch 51, CIFAR-10 Batch 1:  Loss :    1.4916 Validation Accuracy: 0.748600\n",
      "Epoch 51, CIFAR-10 Batch 2:  Loss :    1.6508 Validation Accuracy: 0.729600\n",
      "Epoch 51, CIFAR-10 Batch 3:  Loss :    1.5346 Validation Accuracy: 0.757800\n",
      "Epoch 51, CIFAR-10 Batch 4:  Loss :    1.5087 Validation Accuracy: 0.750200\n",
      "Epoch 51, CIFAR-10 Batch 5:  Loss :    1.5029 Validation Accuracy: 0.748400\n",
      "Epoch 52, CIFAR-10 Batch 1:  Loss :    1.6250 Validation Accuracy: 0.744800\n",
      "Epoch 52, CIFAR-10 Batch 2:  Loss :    1.5146 Validation Accuracy: 0.757600\n",
      "Epoch 52, CIFAR-10 Batch 3:  Loss :    1.6073 Validation Accuracy: 0.749800\n",
      "Epoch 52, CIFAR-10 Batch 4:  Loss :    1.5936 Validation Accuracy: 0.748200\n",
      "Epoch 52, CIFAR-10 Batch 5:  Loss :    1.5854 Validation Accuracy: 0.753400\n",
      "Epoch 53, CIFAR-10 Batch 1:  Loss :    1.5406 Validation Accuracy: 0.756600\n",
      "Epoch 53, CIFAR-10 Batch 2:  Loss :    1.5416 Validation Accuracy: 0.762600\n",
      "Epoch 53, CIFAR-10 Batch 3:  Loss :    1.5587 Validation Accuracy: 0.758000\n",
      "Epoch 53, CIFAR-10 Batch 4:  Loss :    1.4836 Validation Accuracy: 0.752400\n",
      "Epoch 53, CIFAR-10 Batch 5:  Loss :    1.5166 Validation Accuracy: 0.763800\n",
      "Epoch 54, CIFAR-10 Batch 1:  Loss :    1.6042 Validation Accuracy: 0.745200\n",
      "Epoch 54, CIFAR-10 Batch 2:  Loss :    1.5507 Validation Accuracy: 0.746800\n",
      "Epoch 54, CIFAR-10 Batch 3:  Loss :    1.5716 Validation Accuracy: 0.755200\n",
      "Epoch 54, CIFAR-10 Batch 4:  Loss :    1.6473 Validation Accuracy: 0.748200\n",
      "Epoch 54, CIFAR-10 Batch 5:  Loss :    1.5580 Validation Accuracy: 0.752400\n",
      "Epoch 55, CIFAR-10 Batch 1:  Loss :    1.6267 Validation Accuracy: 0.732200\n",
      "Epoch 55, CIFAR-10 Batch 2:  Loss :    1.4726 Validation Accuracy: 0.755200\n",
      "Epoch 55, CIFAR-10 Batch 3:  Loss :    1.4897 Validation Accuracy: 0.755600\n",
      "Epoch 55, CIFAR-10 Batch 4:  Loss :    1.4370 Validation Accuracy: 0.755000\n",
      "Epoch 55, CIFAR-10 Batch 5:  Loss :    1.6806 Validation Accuracy: 0.754400\n",
      "Epoch 56, CIFAR-10 Batch 1:  Loss :    1.6963 Validation Accuracy: 0.735000\n",
      "Epoch 56, CIFAR-10 Batch 2:  Loss :    1.5814 Validation Accuracy: 0.749600\n",
      "Epoch 56, CIFAR-10 Batch 3:  Loss :    1.6229 Validation Accuracy: 0.754600\n",
      "Epoch 56, CIFAR-10 Batch 4:  Loss :    1.7021 Validation Accuracy: 0.744200\n",
      "Epoch 56, CIFAR-10 Batch 5:  Loss :    1.6898 Validation Accuracy: 0.749800\n",
      "Epoch 57, CIFAR-10 Batch 1:  Loss :    1.5735 Validation Accuracy: 0.752600\n",
      "Epoch 57, CIFAR-10 Batch 2:  Loss :    1.7172 Validation Accuracy: 0.750200\n",
      "Epoch 57, CIFAR-10 Batch 3:  Loss :    1.5203 Validation Accuracy: 0.766200\n",
      "Epoch 57, CIFAR-10 Batch 4:  Loss :    1.4866 Validation Accuracy: 0.755600\n",
      "Epoch 57, CIFAR-10 Batch 5:  Loss :    1.5253 Validation Accuracy: 0.760800\n",
      "Epoch 58, CIFAR-10 Batch 1:  Loss :    1.6134 Validation Accuracy: 0.753000\n",
      "Epoch 58, CIFAR-10 Batch 2:  Loss :    1.5814 Validation Accuracy: 0.750200\n",
      "Epoch 58, CIFAR-10 Batch 3:  Loss :    1.5806 Validation Accuracy: 0.756800\n",
      "Epoch 58, CIFAR-10 Batch 4:  Loss :    1.5476 Validation Accuracy: 0.765600\n",
      "Epoch 58, CIFAR-10 Batch 5:  Loss :    1.6916 Validation Accuracy: 0.753200\n",
      "Epoch 59, CIFAR-10 Batch 1:  Loss :    1.6900 Validation Accuracy: 0.753600\n",
      "Epoch 59, CIFAR-10 Batch 2:  Loss :    1.6266 Validation Accuracy: 0.755000\n",
      "Epoch 59, CIFAR-10 Batch 3:  Loss :    1.7004 Validation Accuracy: 0.754800\n",
      "Epoch 59, CIFAR-10 Batch 4:  Loss :    1.7023 Validation Accuracy: 0.745800\n",
      "Epoch 59, CIFAR-10 Batch 5:  Loss :    1.6271 Validation Accuracy: 0.760600\n",
      "Epoch 60, CIFAR-10 Batch 1:  Loss :    1.6672 Validation Accuracy: 0.748000\n",
      "Epoch 60, CIFAR-10 Batch 2:  Loss :    1.5816 Validation Accuracy: 0.763600\n",
      "Epoch 60, CIFAR-10 Batch 3:  Loss :    1.5162 Validation Accuracy: 0.750400\n",
      "Epoch 60, CIFAR-10 Batch 4:  Loss :    1.5526 Validation Accuracy: 0.755800\n",
      "Epoch 60, CIFAR-10 Batch 5:  Loss :    1.6755 Validation Accuracy: 0.751600\n",
      "Epoch 61, CIFAR-10 Batch 1:  Loss :    1.6546 Validation Accuracy: 0.748000\n",
      "Epoch 61, CIFAR-10 Batch 2:  Loss :    1.6228 Validation Accuracy: 0.758600\n",
      "Epoch 61, CIFAR-10 Batch 3:  Loss :    1.6869 Validation Accuracy: 0.747400\n",
      "Epoch 61, CIFAR-10 Batch 4:  Loss :    1.7323 Validation Accuracy: 0.753000\n",
      "Epoch 61, CIFAR-10 Batch 5:  Loss :    1.6320 Validation Accuracy: 0.753800\n",
      "Epoch 62, CIFAR-10 Batch 1:  Loss :    1.6619 Validation Accuracy: 0.744600\n",
      "Epoch 62, CIFAR-10 Batch 2:  Loss :    1.7410 Validation Accuracy: 0.754000\n",
      "Epoch 62, CIFAR-10 Batch 3:  Loss :    1.5711 Validation Accuracy: 0.758400\n",
      "Epoch 62, CIFAR-10 Batch 4:  Loss :    1.7207 Validation Accuracy: 0.751000\n",
      "Epoch 62, CIFAR-10 Batch 5:  Loss :    1.5615 Validation Accuracy: 0.755600\n",
      "Epoch 63, CIFAR-10 Batch 1:  Loss :    1.7880 Validation Accuracy: 0.748600\n",
      "Epoch 63, CIFAR-10 Batch 2:  Loss :    1.5811 Validation Accuracy: 0.754200\n",
      "Epoch 63, CIFAR-10 Batch 3:  Loss :    1.6299 Validation Accuracy: 0.757200\n",
      "Epoch 63, CIFAR-10 Batch 4:  Loss :    1.5989 Validation Accuracy: 0.751600\n",
      "Epoch 63, CIFAR-10 Batch 5:  Loss :    1.5982 Validation Accuracy: 0.750200\n",
      "Epoch 64, CIFAR-10 Batch 1:  Loss :    1.6827 Validation Accuracy: 0.750800\n",
      "Epoch 64, CIFAR-10 Batch 2:  Loss :    1.6389 Validation Accuracy: 0.760400\n",
      "Epoch 64, CIFAR-10 Batch 3:  Loss :    1.6731 Validation Accuracy: 0.750000\n",
      "Epoch 64, CIFAR-10 Batch 4:  Loss :    1.7093 Validation Accuracy: 0.744400\n",
      "Epoch 64, CIFAR-10 Batch 5:  Loss :    1.6870 Validation Accuracy: 0.743400\n"
     ]
    }
   ],
   "source": [
    "\"\"\"\n",
    "DON'T MODIFY ANYTHING IN THIS CELL\n",
    "\"\"\"\n",
    "save_model_path = './image_classification'\n",
    "\n",
    "print('Training...')\n",
    "with tf.Session() as sess:\n",
    "    # Initializing the variables\n",
    "    sess.run(tf.global_variables_initializer())\n",
    "    \n",
    "    # Training cycle\n",
    "    for epoch in range(epochs):\n",
    "        # Loop over all batches\n",
    "        n_batches = 5\n",
    "        for batch_i in range(1, n_batches + 1):\n",
    "            for batch_features, batch_labels in helper.load_preprocess_training_batch(batch_i, batch_size):\n",
    "                train_neural_network(sess, optimizer, keep_probability, batch_features, batch_labels)\n",
    "            print('Epoch {:>2}, CIFAR-10 Batch {}:  '.format(epoch + 1, batch_i), end='')\n",
    "            print_stats(sess, batch_features, batch_labels, cost, accuracy)\n",
    "            \n",
    "    # Save Model\n",
    "    saver = tf.train.Saver()\n",
    "    save_path = saver.save(sess, save_model_path)"
   ]
  },
  {
   "cell_type": "markdown",
   "metadata": {
    "deletable": true,
    "editable": true
   },
   "source": [
    "# Checkpoint\n",
    "The model has been saved to disk.\n",
    "## Test Model\n",
    "Test your model against the test dataset.  This will be your final accuracy. You should have an accuracy greater than 50%. If you don't, keep tweaking the model architecture and parameters."
   ]
  },
  {
   "cell_type": "code",
   "execution_count": 27,
   "metadata": {
    "collapsed": false,
    "deletable": true,
    "editable": true
   },
   "outputs": [
    {
     "name": "stdout",
     "output_type": "stream",
     "text": [
      "Testing Accuracy: 0.7432753164556962\n",
      "\n"
     ]
    },
    {
     "data": {
      "image/png": "[encoded data removed]",
      "text/plain": [
       "<matplotlib.figure.Figure at 0x7f2ffcfc0e80>"
      ]
     },
     "metadata": {
      "image/png": {
       "height": 319,
       "width": 355
      }
     },
     "output_type": "display_data"
    }
   ],
   "source": [
    "\"\"\"\n",
    "DON'T MODIFY ANYTHING IN THIS CELL\n",
    "\"\"\"\n",
    "%matplotlib inline\n",
    "%config InlineBackend.figure_format = 'retina'\n",
    "\n",
    "import tensorflow as tf\n",
    "import pickle\n",
    "import helper\n",
    "import random\n",
    "\n",
    "# Set batch size if not already set\n",
    "try:\n",
    "    if batch_size:\n",
    "        pass\n",
    "except NameError:\n",
    "    batch_size = 64\n",
    "\n",
    "save_model_path = './image_classification'\n",
    "n_samples = 4\n",
    "top_n_predictions = 3\n",
    "\n",
    "def test_model():\n",
    "    \"\"\"\n",
    "    Test the saved model against the test dataset\n",
    "    \"\"\"\n",
    "\n",
    "    test_features, test_labels = pickle.load(open('preprocess_training.p', mode='rb'))\n",
    "    loaded_graph = tf.Graph()\n",
    "\n",
    "    with tf.Session(graph=loaded_graph) as sess:\n",
    "        # Load model\n",
    "        loader = tf.train.import_meta_graph(save_model_path + '.meta')\n",
    "        loader.restore(sess, save_model_path)\n",
    "\n",
    "        # Get Tensors from loaded model\n",
    "        loaded_x = loaded_graph.get_tensor_by_name('x:0')\n",
    "        loaded_y = loaded_graph.get_tensor_by_name('y:0')\n",
    "        loaded_keep_prob = loaded_graph.get_tensor_by_name('keep_prob:0')\n",
    "        loaded_logits = loaded_graph.get_tensor_by_name('logits:0')\n",
    "        loaded_acc = loaded_graph.get_tensor_by_name('accuracy:0')\n",
    "        \n",
    "        # Get accuracy in batches for memory limitations\n",
    "        test_batch_acc_total = 0\n",
    "        test_batch_count = 0\n",
    "        \n",
    "        for train_feature_batch, train_label_batch in helper.batch_features_labels(test_features, test_labels, batch_size):\n",
    "            test_batch_acc_total += sess.run(\n",
    "                loaded_acc,\n",
    "                feed_dict={loaded_x: train_feature_batch, loaded_y: train_label_batch, loaded_keep_prob: 1.0})\n",
    "            test_batch_count += 1\n",
    "\n",
    "        print('Testing Accuracy: {}\\n'.format(test_batch_acc_total/test_batch_count))\n",
    "\n",
    "        # Print Random Samples\n",
    "        random_test_features, random_test_labels = tuple(zip(*random.sample(list(zip(test_features, test_labels)), n_samples)))\n",
    "        random_test_predictions = sess.run(\n",
    "            tf.nn.top_k(tf.nn.softmax(loaded_logits), top_n_predictions),\n",
    "            feed_dict={loaded_x: random_test_features, loaded_y: random_test_labels, loaded_keep_prob: 1.0})\n",
    "        helper.display_image_predictions(random_test_features, random_test_labels, random_test_predictions)\n",
    "\n",
    "\n",
    "test_model()"
   ]
  },
  {
   "cell_type": "markdown",
   "metadata": {
    "deletable": true,
    "editable": true
   },
   "source": [
    "## Why 50-80% Accuracy?\n",
    "You might be wondering why you can't get an accuracy any higher. First things first, 50% isn't bad for a simple CNN.  Pure guessing would get you 10% accuracy. However, you might notice people are getting scores [well above 80%](http://rodrigob.github.io/are_we_there_yet/build/classification_datasets_results.html#43494641522d3130).  That's because we haven't taught you all there is to know about neural networks. We still need to cover a few more techniques.\n",
    "## Submitting This Project\n",
    "When submitting this project, make sure to run all the cells before saving the notebook.  Save the notebook file as \"dlnd_image_classification.ipynb\" and save it as a HTML file under \"File\" -> \"Download as\".  Include the \"helper.py\" and \"problem_unittests.py\" files in your submission."
   ]
  }
 ],
 "metadata": {
  "kernelspec": {
   "display_name": "Python 3",
   "language": "python",
   "name": "python3"
  },
  "language_info": {
   "codemirror_mode": {
    "name": "ipython",
    "version": 3
   },
   "file_extension": ".py",
   "mimetype": "text/x-python",
   "name": "python",
   "nbconvert_exporter": "python",
   "pygments_lexer": "ipython3",
   "version": "3.5.2"
  },
  "widgets": {
   "state": {},
   "version": "1.1.2"
  }
 },
 "nbformat": 4,
 "nbformat_minor": 0
}
